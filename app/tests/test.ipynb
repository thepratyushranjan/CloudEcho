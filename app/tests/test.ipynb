{
 "cells": [
  {
   "cell_type": "code",
   "execution_count": null,
   "metadata": {},
   "outputs": [],
   "source": [
    "import requests\n",
    "import pandas as pd\n",
    "\n",
    "df = pd.read_csv('azure_test.csv')\n",
    "base_url = \"https://prices.azure.com/api/retail/prices\"\n",
    "params = {\n",
    "    '$filter': \"serviceName eq 'Virtual Machines'\",\n",
    "    'currencyCode': 'USD'\n",
    "}\n",
    "\n",
    "items = []\n",
    "url = base_url + \"?$filter=\" + params['$filter'].replace(\" \", \"%20\") + \"&currencyCode=\" + params['currencyCode']\n",
    "while url:\n",
    "    resp = requests.get(url).json()\n",
    "    items.extend(resp.get('Items', []))\n",
    "    url = resp.get('NextPageLink')\n",
    "prices = pd.DataFrame(items)\n",
    "df['_Region_key']  = df['Region'].str.lower()\n",
    "df['_VMSize_key'] = df['VMSize'].str.lower()\n",
    "prices['_Region_key']  = prices['armRegionName'].str.lower()\n",
    "prices['_VMSize_key'] = prices['armSkuName'].str.lower()\n",
    "\n",
    "merged = df.merge(\n",
    "    prices[['unitOfMeasure','retailPrice','_Region_key','_VMSize_key']],\n",
    "    on=['_Region_key','_VMSize_key'],\n",
    "    how='left'\n",
    ")\n",
    "\n",
    "merged = merged[merged['unitOfMeasure']=='1 Hour'].copy()\n",
    "\n",
    "merged.rename(columns={'retailPrice':'Cost Per Hour'}, inplace=True)\n",
    "merged.to_csv('azure_test_with.csv', index=False)\n",
    "\n",
    "print(merged.head())\n"
   ]
  },
  {
   "cell_type": "code",
   "execution_count": 26,
   "metadata": {},
   "outputs": [
    {
     "name": "stdout",
     "output_type": "stream",
     "text": [
      "Columns reordered (headers moved with their data).\n"
     ]
    }
   ],
   "source": [
    "import pandas as pd\n",
    "\n",
    "df = pd.read_csv(\"azure_test_with.csv\")\n",
    "\n",
    "cols = df.columns.tolist()\n",
    "# swap the names in the list\n",
    "cols[8], cols[10] = cols[10], cols[8]\n",
    "\n",
    "# reindex the DataFrame\n",
    "df = df[cols]\n",
    "\n",
    "df.to_csv(\"final_test_azure_file.csv\", index=False)\n",
    "print(\"Columns reordered (headers moved with their data).\")\n"
   ]
  }
 ],
 "metadata": {
  "kernelspec": {
   "display_name": "venv",
   "language": "python",
   "name": "python3"
  },
  "language_info": {
   "codemirror_mode": {
    "name": "ipython",
    "version": 3
   },
   "file_extension": ".py",
   "mimetype": "text/x-python",
   "name": "python",
   "nbconvert_exporter": "python",
   "pygments_lexer": "ipython3",
   "version": "3.12.3"
  }
 },
 "nbformat": 4,
 "nbformat_minor": 2
}
