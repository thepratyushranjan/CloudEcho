{
 "cells": [
  {
   "cell_type": "markdown",
   "id": "b0fe20e2",
   "metadata": {},
   "source": [
    "GCP GET CLI Details"
   ]
  },
  {
   "cell_type": "code",
   "execution_count": null,
   "id": "99faf220",
   "metadata": {},
   "outputs": [
    {
     "name": "stdout",
     "output_type": "stream",
     "text": [
      "Using project: my-gcp-project\n",
      "Using key: /Users/alice/keys/my-gcp-key.json\n"
     ]
    }
   ],
   "source": [
    "import os\n",
    "import json\n",
    "from dotenv import load_dotenv\n",
    "import pandas as pd\n",
    "from google.oauth2 import service_account\n",
    "from googleapiclient import discovery\n",
    "\n",
    "load_dotenv()\n",
    "KEY_PATH = os.getenv(\"GOOGLE_APPLICATION_CREDENTIALS\")   # e.g. path/to/service-account.json\n",
    "PROJECT  = os.getenv(\"GCP_PROJECT\") \n",
    "print(f\"Using project: {PROJECT}\")\n",
    "print(f\"Using key: {KEY_PATH}\")"
   ]
  },
  {
   "cell_type": "code",
   "execution_count": null,
   "id": "23e792f4",
   "metadata": {},
   "outputs": [],
   "source": [
    "creds   = service_account.Credentials.from_service_account_file(KEY_PATH)\n",
    "compute = discovery.build(\"compute\", \"v1\", credentials=creds)"
   ]
  },
  {
   "cell_type": "code",
   "execution_count": 3,
   "id": "53445ee4",
   "metadata": {},
   "outputs": [],
   "source": [
    "def collect_all_machine_types():\n",
    "    rows = []\n",
    "    request = compute.machineTypes().aggregatedList(project=PROJECT)\n",
    "    while request:\n",
    "        resp = request.execute()\n",
    "        for zone_uri, zone_block in resp.get(\"items\", {}).items():\n",
    "            # zone_uri looks like \"zones/us-central1-a\"\n",
    "            zone   = zone_uri.split(\"/\")[-1]\n",
    "            region = zone.rsplit(\"-\", 1)[0]          # us-central1\n",
    "            for m in zone_block.get(\"machineTypes\", []):\n",
    "                rows.append({\n",
    "                    \"Zone\":            zone,\n",
    "                    \"Region\":          region,\n",
    "                    \"MachineType\":     m[\"name\"],\n",
    "                    \"vCPUs\":           m[\"guestCpus\"],\n",
    "                    \"MemoryMiB\":       m[\"memoryMb\"],\n",
    "                    \"MemoryGiB\":       round(m[\"memoryMb\"]/1024, 2),\n",
    "                    \"Accelerators\":    m.get(\"accelerators\"),        # GPUs/FPGAs\n",
    "                    \"Deprecated\":      m.get(\"deprecated\"),          # if any\n",
    "                    \"SelfLink\":        m.get(\"selfLink\"),\n",
    "                    \"Description\":     m.get(\"description\"),\n",
    "                })\n",
    "        request = compute.machineTypes().aggregatedList_next(\n",
    "            previous_request=request, previous_response=resp\n",
    "        )\n",
    "    return pd.DataFrame(rows)"
   ]
  },
  {
   "cell_type": "code",
   "execution_count": null,
   "id": "1e679d74",
   "metadata": {},
   "outputs": [],
   "source": [
    "df = collect_all_machine_types()\n",
    "print(df.columns.tolist())\n",
    "print(df.head())"
   ]
  }
 ],
 "metadata": {
  "kernelspec": {
   "display_name": "venv",
   "language": "python",
   "name": "python3"
  },
  "language_info": {
   "codemirror_mode": {
    "name": "ipython",
    "version": 3
   },
   "file_extension": ".py",
   "mimetype": "text/x-python",
   "name": "python",
   "nbconvert_exporter": "python",
   "pygments_lexer": "ipython3",
   "version": "3.12.3"
  }
 },
 "nbformat": 4,
 "nbformat_minor": 5
}
