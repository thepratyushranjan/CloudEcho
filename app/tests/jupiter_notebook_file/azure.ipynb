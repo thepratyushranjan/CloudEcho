{
 "cells": [
  {
   "cell_type": "markdown",
   "id": "d2c3d1ee",
   "metadata": {},
   "source": [
    "Azure GET CLI Details"
   ]
  },
  {
   "cell_type": "code",
   "execution_count": 4,
   "id": "9f6227d7",
   "metadata": {},
   "outputs": [
    {
     "data": {
      "text/plain": [
       "True"
      ]
     },
     "execution_count": 4,
     "metadata": {},
     "output_type": "execute_result"
    }
   ],
   "source": [
    "import os\n",
    "import pandas as pd\n",
    "import requests\n",
    "from azure.identity import DefaultAzureCredential\n",
    "from azure.mgmt.compute import ComputeManagementClient\n",
    "from dotenv import load_dotenv\n",
    "load_dotenv()"
   ]
  },
  {
   "cell_type": "code",
   "execution_count": 5,
   "id": "48dac72a",
   "metadata": {},
   "outputs": [],
   "source": [
    "subscription_id = os.getenv('AZURE_SUBSCRIPTION_ID')\n",
    "credential = DefaultAzureCredential()\n",
    "compute_client = ComputeManagementClient(credential, subscription_id)"
   ]
  },
  {
   "cell_type": "code",
   "execution_count": 4,
   "id": "b1dccc5a",
   "metadata": {},
   "outputs": [],
   "source": [
    "# VM Family Name "
   ]
  },
  {
   "cell_type": "code",
   "execution_count": 6,
   "id": "4bbb639c",
   "metadata": {},
   "outputs": [],
   "source": [
    "\n",
    "mapping = [\n",
    "    # General Purpose\n",
    "    (\"A\",   \"Av2-series; previous-gen A-family series\",                         \"General Purpose\"),\n",
    "    (\"B\",   \"Bsv2-series; Basv2-series; Bpsv2-series; previous-gen B-family\",   \"General Purpose\"),\n",
    "    (\"D\",   \"Dpsv6/Dplsv6; Dpdsv6/Dpldsv6; Dasv6/Dadvsv6; Dalsv6/Daldsv6; \"\n",
    "            \"Dpsv5/Dpds5; Dpldsv5/Dpldsv5; Dlsv5/Dlds5; Dv5/Ddsv5; Dasv5/Dads5; \"\n",
    "            \"previous-gen D-family\",                                              \"General Purpose\"),\n",
    "    (\"DC\",  \"DCasv5/DCadsv5; DCas_cc_v5/DCads_cc_v5; DCesv6/DCedsv6; \"\n",
    "            \"DCsv3/DCdsv3; previous-gen DC-family\",                                \"General Purpose\"),\n",
    " \n",
    "    # Compute Optimized\n",
    "    (\"F\",   \"Fasy6-series; Falsy6-series; Famsv6-series; Fsv2-series; previous-gen F-family\",\n",
    "            \"Compute Optimized\"),\n",
    "    (\"FX\",  \"FX-series\",                                                          \"Compute Optimized\"),\n",
    "\n",
    "    # FPGA Accelerated\n",
    "    (\"NP\",  \"NP-series\",     \"GPU Accelerated\"),\n",
    "    (\"NV\",  \"NV-series; NVv3; NVv4; NVadsA10_v5; previous-gen NV-family\",         \"GPU Accelerated\"),\n",
    "\n",
    "    # High performance compute\n",
    "    (\"HB\",  \"HB-series; HBv2-series; HBv3-series; HBv4-series\",                   \"High performance compute\"),\n",
    "    (\"HC\",  \"HC-series\",                                                         \"High performance compute\"),\n",
    "    (\"HX\",  \"HX-series\",                                                         \"High performance compute\"),\n",
    "\n",
    "    # Memory Optimized\n",
    "    (\"E\",   \"Epsv6/EpdsV6; Easv6/Eadsv6; Ev5/Esv5; Edy5/Eds5; Easv5/Eadsv5; \"\n",
    "            \"Epsv5/EpdsV5; previous-gen E-family\",                                  \"Memory Optimized\"),\n",
    "    (\"Eb\",  \"Ebdsv5/Ebsv5\",                                                      \"Memory Optimized\"),\n",
    "    (\"EC\",  \"ECasv5/ECadsv5; ECas_cc_v5/ECads_cc_v5; ECesv5/ECedsv5\",             \"Memory Optimized\"),\n",
    "    (\"M\",   \"MbsV3/MbdsV3; Msv3/Mdsv3; Mv2; Msv2/Mdsv2\",                          \"Memory Optimized\"),\n",
    "\n",
    "    # Storage Optimized\n",
    "    (\"L\",   \"Lsv3-series; Lasv3-series; previous-gen L-family\",                  \"Storage Optimized\"),\n",
    "]\n",
    "\n",
    "mapping_dict   = {fam: {\"series\": s, \"category\": c} for fam, s, c in mapping}\n",
    "sorted_prefixes = sorted(mapping_dict, key=lambda x: -len(x))\n",
    "\n",
    "\n",
    "def get_vm_mapping(sku_name: str):\n",
    "    \"\"\"\n",
    "    Given e.g. \"Standard_D4s_v3\", returns (prefix, series-str, category-str).\n",
    "    \"\"\"\n",
    "    name = sku_name.upper()\n",
    "    if name.startswith(\"STANDARD_\"):\n",
    "        name = name.split(\"_\", 1)[1]\n",
    "    for prefix in sorted_prefixes:\n",
    "        if name.startswith(prefix):\n",
    "            md = mapping_dict[prefix]\n",
    "            return prefix, md[\"series\"], md[\"category\"]\n",
    "    return None, None, \"Other\"\n"
   ]
  },
  {
   "cell_type": "code",
   "execution_count": 7,
   "id": "665551b5",
   "metadata": {},
   "outputs": [],
   "source": [
    "def collect_all_instance_types_azure(compute_client: ComputeManagementClient) -> pd.DataFrame:\n",
    "    \"\"\"\n",
    "    Pull every Azure VM SKU and return a DataFrame matching the AWS instance schema.\n",
    "    \"\"\"\n",
    "    rows = []\n",
    "    for sku in compute_client.resource_skus.list():\n",
    "        if sku.resource_type.lower() != \"virtualmachines\":\n",
    "            continue\n",
    "\n",
    "        caps = {c.name: c.value for c in sku.capabilities}\n",
    "        _, _, category = get_vm_mapping(sku.name)\n",
    "\n",
    "        for loc_info in sku.location_info:\n",
    "            loc     = loc_info.location\n",
    "            location_name = loc\n",
    "            ram_gib = float(caps.get(\"MemoryGB\", 0))\n",
    "            os_gb   = float(caps.get(\"OSVhdSizeMB\", 0)) / 1024\n",
    "            tmp_gb  = float(caps.get(\"ResourceDiskSizeMB\", 0)) / 1024\n",
    "\n",
    "            rows.append({\n",
    "                \"Region\":               loc,\n",
    "                \"Location Name\":        location_name,\n",
    "                \"Instance Type\":        sku.name,\n",
    "                \"Instance Family\":      category,\n",
    "                \"vCPUs\":                int(caps.get(\"vCPUs\", 0)),\n",
    "                \"RAM (GiB)\":            ram_gib,\n",
    "                \"Memory MiB\":           int(round(ram_gib * 1024)),\n",
    "                \"Accelerators\":         int(caps.get(\"GPUs\", 0)),\n",
    "                \"Storage Info\":         {\"OS (GB)\": os_gb, \"Temp (GB)\": tmp_gb},\n",
    "                \"Network Performance\":  float(caps.get(\"NetworkBandwidthInGbps\", 0)),\n",
    "            })\n",
    "\n",
    "    return pd.DataFrame(rows)"
   ]
  },
  {
   "cell_type": "code",
   "execution_count": 8,
   "id": "b8728e46",
   "metadata": {},
   "outputs": [
    {
     "ename": "AttributeError",
     "evalue": "'ResourceSkuLocationInfo' object has no attribute 'display_name'",
     "output_type": "error",
     "traceback": [
      "\u001b[31m---------------------------------------------------------------------------\u001b[39m",
      "\u001b[31mAttributeError\u001b[39m                            Traceback (most recent call last)",
      "\u001b[36mCell\u001b[39m\u001b[36m \u001b[39m\u001b[32mIn[8]\u001b[39m\u001b[32m, line 1\u001b[39m\n\u001b[32m----> \u001b[39m\u001b[32m1\u001b[39m df_azure = \u001b[43mcollect_all_instance_types_azure\u001b[49m\u001b[43m(\u001b[49m\u001b[43mcompute_client\u001b[49m\u001b[43m)\u001b[49m\n",
      "\u001b[36mCell\u001b[39m\u001b[36m \u001b[39m\u001b[32mIn[7]\u001b[39m\u001b[32m, line 15\u001b[39m, in \u001b[36mcollect_all_instance_types_azure\u001b[39m\u001b[34m(compute_client)\u001b[39m\n\u001b[32m     13\u001b[39m \u001b[38;5;28;01mfor\u001b[39;00m loc_info \u001b[38;5;129;01min\u001b[39;00m sku.location_info:\n\u001b[32m     14\u001b[39m     loc     = loc_info.location\n\u001b[32m---> \u001b[39m\u001b[32m15\u001b[39m     location_name = \u001b[43mloc_info\u001b[49m\u001b[43m.\u001b[49m\u001b[43mdisplay_name\u001b[49m\n\u001b[32m     16\u001b[39m     ram_gib = \u001b[38;5;28mfloat\u001b[39m(caps.get(\u001b[33m\"\u001b[39m\u001b[33mMemoryGB\u001b[39m\u001b[33m\"\u001b[39m, \u001b[32m0\u001b[39m))\n\u001b[32m     17\u001b[39m     os_gb   = \u001b[38;5;28mfloat\u001b[39m(caps.get(\u001b[33m\"\u001b[39m\u001b[33mOSVhdSizeMB\u001b[39m\u001b[33m\"\u001b[39m, \u001b[32m0\u001b[39m)) / \u001b[32m1024\u001b[39m\n",
      "\u001b[31mAttributeError\u001b[39m: 'ResourceSkuLocationInfo' object has no attribute 'display_name'"
     ]
    }
   ],
   "source": [
    "df_azure = collect_all_instance_types_azure(compute_client)"
   ]
  },
  {
   "cell_type": "code",
   "execution_count": null,
   "id": "98f738e2",
   "metadata": {},
   "outputs": [],
   "source": [
    "print(df_azure.head())\n",
    "print(\"Total SKUs:\", len(df_azure))"
   ]
  },
  {
   "cell_type": "code",
   "execution_count": null,
   "id": "fa42a42b",
   "metadata": {},
   "outputs": [],
   "source": [
    "print(\"Number of rows:\", df_azure.shape[0])  # Total rows\n",
    "print(\"Number of columns:\", df_azure.shape[1])  # Total columns\n",
    "print(df_azure.count())\n",
    "print(df_azure.to_string())"
   ]
  },
  {
   "cell_type": "code",
   "execution_count": null,
   "id": "89bb367c",
   "metadata": {},
   "outputs": [],
   "source": [
    "output_path = \"azure_test.csv\"\n",
    "df_azure.to_csv(output_path, index=False)\n",
    "print(f\"Exported {len(df_azure)} rows to {output_path}\")"
   ]
  },
  {
   "cell_type": "markdown",
   "id": "c4e6655f",
   "metadata": {},
   "source": [
    "# Cost per Hour"
   ]
  },
  {
   "cell_type": "code",
   "execution_count": null,
   "id": "89c6a714",
   "metadata": {},
   "outputs": [],
   "source": [
    "\n",
    "df = pd.read_csv('azure_test.csv')\n",
    "base_url = \"https://prices.azure.com/api/retail/prices\"\n",
    "params = {\n",
    "    '$filter': \"serviceName eq 'Virtual Machines'\",\n",
    "    'currencyCode': 'USD'\n",
    "}\n",
    "\n",
    "items = []\n",
    "url = base_url + \"?$filter=\" + params['$filter'].replace(\" \", \"%20\") + \"&currencyCode=\" + params['currencyCode']\n",
    "while url:\n",
    "    resp = requests.get(url).json()\n",
    "    items.extend(resp.get('Items', []))\n",
    "    url = resp.get('NextPageLink')\n",
    "prices = pd.DataFrame(items)\n",
    "df['_Region_key']  = df['Region'].str.lower()\n",
    "df['_VMSize_key'] = df['Instance Type'].str.lower()\n",
    "prices['_Region_key']  = prices['armRegionName'].str.lower()\n",
    "prices['_VMSize_key'] = prices['armSkuName'].str.lower()\n",
    "\n",
    "merged = df.merge(\n",
    "    prices[['unitOfMeasure','retailPrice','_Region_key','_VMSize_key']],\n",
    "    on=['_Region_key','_VMSize_key'],\n",
    "    how='left'\n",
    ")\n",
    "\n",
    "merged = merged[merged['unitOfMeasure']=='1 Hour'].copy()\n",
    "\n",
    "merged.rename(columns={'retailPrice':'Cost Per Hour'}, inplace=True)\n",
    "merged.drop(['unitOfMeasure', '_Region_key', '_VMSize_key'], axis=1, inplace=True)\n",
    "merged.to_csv('azure_test_with_cost_1.csv', index=False)\n",
    "\n",
    "print(merged.head())\n"
   ]
  },
  {
   "cell_type": "code",
   "execution_count": 3,
   "id": "e3824c80",
   "metadata": {},
   "outputs": [
    {
     "name": "stdout",
     "output_type": "stream",
     "text": [
      "Columns reordered (headers moved with their data).\n"
     ]
    }
   ],
   "source": [
    "df = pd.read_csv(\"azure_test_with_cost_1.csv\")\n",
    "cols = df.columns.tolist()\n",
    "cols[6], cols[9] = cols[9], cols[6]\n",
    "df = df[cols]\n",
    "df.to_csv(\"Final_Azure_Test_Data.csv\", index=False)\n",
    "print(\"Columns reordered (headers moved with their data).\")"
   ]
  }
 ],
 "metadata": {
  "kernelspec": {
   "display_name": "venv",
   "language": "python",
   "name": "python3"
  },
  "language_info": {
   "codemirror_mode": {
    "name": "ipython",
    "version": 3
   },
   "file_extension": ".py",
   "mimetype": "text/x-python",
   "name": "python",
   "nbconvert_exporter": "python",
   "pygments_lexer": "ipython3",
   "version": "3.12.3"
  }
 },
 "nbformat": 4,
 "nbformat_minor": 5
}
