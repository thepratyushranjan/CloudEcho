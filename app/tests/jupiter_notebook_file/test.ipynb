{
 "cells": [
  {
   "cell_type": "code",
   "execution_count": 19,
   "metadata": {},
   "outputs": [],
   "source": [
    "import os\n",
    "from dotenv import load_dotenv\n",
    "\n",
    "import pandas as pd\n",
    "from google.oauth2 import service_account\n",
    "from googleapiclient.discovery import build\n",
    "\n",
    "# ── CONFIG ─────────────────────────────────────────────────────────────────────\n",
    "load_dotenv()\n",
    "KEY_PATH    = os.getenv(\"GOOGLE_APPLICATION_CREDENTIALS\")  # e.g. \"path/to/sa.json\"\n",
    "PROJECT     = os.getenv(\"GCP_PROJECT\")                    # your GCP project ID\n",
    "SERVICE_ID  = os.getenv(\"SERVICE_ID\", \"6F81-5844-456A\")    # Compute Engine billing service\n",
    "BILLING_API = f\"services/{SERVICE_ID}\""
   ]
  },
  {
   "cell_type": "code",
   "execution_count": 20,
   "metadata": {},
   "outputs": [],
   "source": [
    "creds   = service_account.Credentials.from_service_account_file(KEY_PATH)\n",
    "compute = build(\"compute\", \"v1\", credentials=creds)\n",
    "billing = build(\"cloudbilling\", \"v1\", credentials=creds)"
   ]
  },
  {
   "cell_type": "code",
   "execution_count": 21,
   "metadata": {},
   "outputs": [],
   "source": [
    "def get_category_definitions():\n",
    "    return {\n",
    "        'General Purpose':     {'c4a','c4','c4d','c3','c3d','n4','n2','n2d','n1','g1','t2a','t2d','e2','f1'},\n",
    "        'Storage Optimized':   {'z3'},\n",
    "        'Compute Optimized':   {'h3','c2','c2d'},\n",
    "        'Memory Optimized':    {'x4','m4','m3','m2','m1'},\n",
    "        'Accelerator Optimized': {'a4','a3','a2','g2'},\n",
    "        'Tensor Processing Unit': {'ct3','ct3p','ct4p','ct5l','ct5p','ct6e'},\n",
    "    }"
   ]
  },
  {
   "cell_type": "code",
   "execution_count": 22,
   "metadata": {},
   "outputs": [],
   "source": [
    "_category_map = {\n",
    "    fam: cat\n",
    "    for cat, fams in get_category_definitions().items()\n",
    "    for fam in fams\n",
    "}"
   ]
  },
  {
   "cell_type": "code",
   "execution_count": 23,
   "metadata": {},
   "outputs": [],
   "source": [
    "def collect_all_machine_types():\n",
    "    rows = []\n",
    "    req = compute.machineTypes().aggregatedList(project=PROJECT)\n",
    "    while req:\n",
    "        resp = req.execute()\n",
    "        for zone_uri, zone_block in resp.get(\"items\", {}).items():\n",
    "            zone   = zone_uri.split(\"/\")[-1]\n",
    "            region = zone.rsplit(\"-\", 1)[0]\n",
    "            for m in zone_block.get(\"machineTypes\", []):\n",
    "                family   = m[\"name\"].split(\"-\", 1)[0]\n",
    "                category = _category_map.get(family, \"Other\")\n",
    "                rows.append({\n",
    "                    \"Region\":         region,\n",
    "                    \"MachineType\":    m[\"name\"],\n",
    "                    \"Machine Family\": category,\n",
    "                    \"vCPUs\":          m[\"guestCpus\"],\n",
    "                    \"MemoryMiB\":      m[\"memoryMb\"],\n",
    "                    \"MemoryGiB\":      round(m[\"memoryMb\"] / 1024, 2),\n",
    "                    \"Accelerators\":   m.get(\"accelerators\"),  # list of dicts or None\n",
    "                })\n",
    "        req = compute.machineTypes().aggregatedList_next(previous_request=req, previous_response=resp)\n",
    "    return pd.DataFrame(rows)"
   ]
  },
  {
   "cell_type": "code",
   "execution_count": 32,
   "metadata": {},
   "outputs": [],
   "source": [
    "def fetch_compute_skus():\n",
    "    skus = []\n",
    "    req = billing.services().skus().list(\n",
    "        parent=BILLING_API,\n",
    "        pageSize=5000,\n",
    "        currencyCode=\"USD\",\n",
    "    )\n",
    "    while req:\n",
    "        resp = req.execute()\n",
    "        skus.extend(resp.get(\"skus\", []))\n",
    "        req = billing.services().skus().list_next(previous_request=req, previous_response=resp)\n",
    "\n",
    "    data = []\n",
    "    for sku in skus:\n",
    "        cat = sku.get(\"category\", {})\n",
    "        # only on-demand Compute & GPU SKUs\n",
    "        if cat.get(\"usageType\") != \"OnDemand\" or cat.get(\"resourceFamily\") not in (\"Compute\", \"GPU\"):\n",
    "            continue\n",
    "\n",
    "        expr = sku[\"pricingInfo\"][0][\"pricingExpression\"]\n",
    "        unit_price = expr[\"tieredRates\"][0][\"unitPrice\"]\n",
    "        # CAST to numbers\n",
    "        units = float(unit_price.get(\"units\", \"0\"))\n",
    "        nanos = float(unit_price.get(\"nanos\", 0))\n",
    "        price = units + nanos / 1e9\n",
    "\n",
    "        base = {\n",
    "            \"ResourceGroup\": cat.get(\"resourceGroup\"),  # e.g. \"CPU\", \"RAM\", \"NVIDIA_TESLA_V100\"\n",
    "            \"UsageUnit\":     expr.get(\"usageUnit\"),     # e.g. \"h\"\n",
    "            \"PricePerUnit\":  price,                     # USD per hour\n",
    "        }\n",
    "        for region in sku.get(\"serviceRegions\", []):\n",
    "            row = base.copy()\n",
    "            row[\"Region\"] = region\n",
    "            data.append(row)\n",
    "\n",
    "    return pd.DataFrame(data)\n"
   ]
  },
  {
   "cell_type": "code",
   "execution_count": 33,
   "metadata": {},
   "outputs": [],
   "source": [
    "def merge_prices_and_compute(df_machines, df_skus):\n",
    "    # Pivot CPU & RAM prices\n",
    "    cpu = df_skus[df_skus.ResourceGroup == \"CPU\"][[\"Region\",\"PricePerUnit\"]].rename(columns={\"PricePerUnit\":\"CpuPrice\"})\n",
    "    ram = df_skus[df_skus.ResourceGroup == \"RAM\"][[\"Region\",\"PricePerUnit\"]].rename(columns={\"PricePerUnit\":\"RamPrice\"})\n",
    "    # All non-CPU/RAM SKUs are GPUs or TPUs\n",
    "    gpu = df_skus[~df_skus.ResourceGroup.isin({\"CPU\",\"RAM\"})][[\"Region\",\"ResourceGroup\",\"PricePerUnit\"]]\n",
    "\n",
    "    df = df_machines.merge(cpu, on=\"Region\", how=\"left\")\n",
    "    df = df.merge(ram, on=\"Region\", how=\"left\")\n",
    "\n",
    "    # Compute GPU/TU cost\n",
    "    def gpu_cost(acc_list, region):\n",
    "        if not acc_list:\n",
    "            return 0.0\n",
    "        total = 0.0\n",
    "        for a in acc_list:\n",
    "            type_key = a[\"acceleratorType\"].split(\"/\")[-1].upper().replace(\"-\", \"_\")\n",
    "            cnt      = a[\"acceleratorCount\"]\n",
    "            match    = gpu[\n",
    "                (gpu.Region == region) &\n",
    "                (gpu.ResourceGroup == type_key)\n",
    "            ][\"PricePerUnit\"]\n",
    "            if not match.empty:\n",
    "                total += float(match.iloc[0]) * cnt\n",
    "        return total\n",
    "\n",
    "    df[\"GpuPrice\"]      = df.apply(lambda r: gpu_cost(r[\"Accelerators\"], r[\"Region\"]), axis=1)\n",
    "    df[\"CostPerHour\"]   = (\n",
    "        df[\"vCPUs\"] * df[\"CpuPrice\"] +\n",
    "        df[\"MemoryGiB\"] * df[\"RamPrice\"] +\n",
    "        df[\"GpuPrice\"]\n",
    "    ).round(6)\n",
    "\n",
    "    return df"
   ]
  },
  {
   "cell_type": "code",
   "execution_count": 34,
   "metadata": {},
   "outputs": [],
   "source": [
    "machines_df = collect_all_machine_types()"
   ]
  },
  {
   "cell_type": "code",
   "execution_count": 36,
   "metadata": {},
   "outputs": [
    {
     "name": "stdout",
     "output_type": "stream",
     "text": [
      "Fetched 24184 machine‐type entries.\n"
     ]
    }
   ],
   "source": [
    "print(f\"Fetched {len(machines_df)} machine‐type entries.\")"
   ]
  },
  {
   "cell_type": "code",
   "execution_count": 38,
   "metadata": {},
   "outputs": [
    {
     "name": "stdout",
     "output_type": "stream",
     "text": [
      "Got 6940 on-demand SKU rows\n"
     ]
    }
   ],
   "source": [
    "skus_df = fetch_compute_skus()\n",
    "print(f\"Got {len(skus_df)} on-demand SKU rows\")"
   ]
  },
  {
   "cell_type": "code",
   "execution_count": 39,
   "metadata": {},
   "outputs": [],
   "source": [
    "def merge_prices_and_compute(df_machines, df_skus):\n",
    "    # pivot CPU & RAM\n",
    "    cpu = df_skus[df_skus.ResourceGroup==\"CPU\"][[\"Region\",\"PricePerUnit\"]].rename(columns={\"PricePerUnit\":\"CpuPrice\"})\n",
    "    ram = df_skus[df_skus.ResourceGroup==\"RAM\"][[\"Region\",\"PricePerUnit\"]].rename(columns={\"PricePerUnit\":\"RamPrice\"})\n",
    "    gpu = df_skus[~df_skus.ResourceGroup.isin({\"CPU\",\"RAM\"})][[\"Region\",\"ResourceGroup\",\"PricePerUnit\"]]\n",
    "\n",
    "    df = df_machines.merge(cpu, on=\"Region\", how=\"left\")\\\n",
    "                    .merge(ram, on=\"Region\", how=\"left\")\n",
    "\n",
    "    def gpu_cost(acc_list, region):\n",
    "        if not acc_list:\n",
    "            return 0.0\n",
    "        total = 0.0\n",
    "        for a in acc_list:\n",
    "            # normalize e.g. \"nvidia-tesla-v100\" -> \"NVIDIA_TESLA_V100\"\n",
    "            key = a[\"acceleratorType\"].split(\"/\")[-1].upper().replace(\"-\", \"_\")\n",
    "            cnt = a[\"acceleratorCount\"]\n",
    "            match = gpu[(gpu.Region==region)&(gpu.ResourceGroup==key)][\"PricePerUnit\"]\n",
    "            if not match.empty:\n",
    "                total += float(match.iloc[0])*cnt\n",
    "        return total\n",
    "\n",
    "    df[\"GpuPrice\"]    = df.apply(lambda r: gpu_cost(r[\"Accelerators\"], r[\"Region\"]), axis=1)\n",
    "    df[\"CostPerHour\"] = (df[\"vCPUs\"]*df[\"CpuPrice\"] + df[\"MemoryGiB\"]*df[\"RamPrice\"] + df[\"GpuPrice\"]).round(6)\n",
    "    return df"
   ]
  },
  {
   "cell_type": "code",
   "execution_count": null,
   "metadata": {},
   "outputs": [],
   "source": [
    "result_df = merge_prices_and_compute(machines_df, skus_df)"
   ]
  }
 ],
 "metadata": {
  "kernelspec": {
   "display_name": "venv",
   "language": "python",
   "name": "python3"
  },
  "language_info": {
   "codemirror_mode": {
    "name": "ipython",
    "version": 3
   },
   "file_extension": ".py",
   "mimetype": "text/x-python",
   "name": "python",
   "nbconvert_exporter": "python",
   "pygments_lexer": "ipython3",
   "version": "3.12.3"
  }
 },
 "nbformat": 4,
 "nbformat_minor": 2
}
