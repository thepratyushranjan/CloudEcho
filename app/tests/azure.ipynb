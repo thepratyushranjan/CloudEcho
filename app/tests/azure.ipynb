{
 "cells": [
  {
   "cell_type": "markdown",
   "id": "d2c3d1ee",
   "metadata": {},
   "source": [
    "Azure GET CLI Details"
   ]
  },
  {
   "cell_type": "code",
   "execution_count": 2,
   "id": "9f6227d7",
   "metadata": {},
   "outputs": [
    {
     "data": {
      "text/plain": [
       "True"
      ]
     },
     "execution_count": 2,
     "metadata": {},
     "output_type": "execute_result"
    }
   ],
   "source": [
    "import os\n",
    "import pandas as pd\n",
    "from azure.identity import DefaultAzureCredential\n",
    "from azure.mgmt.compute import ComputeManagementClient\n",
    "from dotenv import load_dotenv\n",
    "load_dotenv()"
   ]
  },
  {
   "cell_type": "code",
   "execution_count": 4,
   "id": "48dac72a",
   "metadata": {},
   "outputs": [
    {
     "name": "stdout",
     "output_type": "stream",
     "text": [
      "Subscription ID: 00000000-0000-0000-0000-000000000000\n",
      "Using DefaultAzureCredential -> will authenticate via env vars or CLI login\n",
      "<azure.mgmt.compute._compute_management_client.ComputeManagementClient object at 0x7e046c4b8590>\n",
      "Compute client ready for region-by-region VM SKU queries\n"
     ]
    }
   ],
   "source": [
    "subscription_id = os.getenv(\"AZURE_SUBSCRIPTION_ID\")\n",
    "print(\"Subscription ID:\", subscription_id)\n",
    "credential = DefaultAzureCredential()\n",
    "print(\"Using DefaultAzureCredential -> will authenticate via env vars or CLI login\")\n",
    "compute_client = ComputeManagementClient(credential, subscription_id)\n",
    "print(compute_client)\n",
    "print(\"Compute client ready for region-by-region VM SKU queries\")"
   ]
  },
  {
   "cell_type": "code",
   "execution_count": null,
   "id": "22de7d66",
   "metadata": {},
   "outputs": [],
   "source": [
    "def collect_all_vm_sizes(compute_client: ComputeManagementClient):\n",
    "\n",
    "    rows = []\n",
    "    for sku in compute_client.resource_skus.list():\n",
    "        # Only virtual machine SKUs\n",
    "        if sku.resource_type.lower() != 'virtualmachines':\n",
    "            continue\n",
    "\n",
    "        # Map capabilities list to a dict for lookup\n",
    "        caps = {c.name: c.value for c in sku.capabilities}\n",
    "\n",
    "        # Expand each location the SKU is offered in\n",
    "        for loc_info in sku.location_info:\n",
    "            loc = loc_info.location\n",
    "            rows.append({\n",
    "                'Region':              loc,\n",
    "                'VMSize':              sku.name,\n",
    "                'vCPUs':               int(caps.get('vCPUs', 0)),\n",
    "                'Memory (GiB)':        float(caps.get('MemoryGB', 0)),\n",
    "                'OS Disk Size (GB)':   float(caps.get('OSVhdSizeMB', 0)) / 1024,\n",
    "                'Temp Disk Size (GB)': float(caps.get('ResourceDiskSizeMB', 0)) / 1024,\n",
    "                'Max Data Disks':      int(caps.get('MaxDataDiskCount', 0)),\n",
    "                'Network BW (Gbps)':   float(caps.get('NetworkBandwidthInGbps', 0)),\n",
    "                'GPU Count':           int(caps.get('GPUs', 0)),\n",
    "            })\n",
    "\n",
    "    return pd.DataFrame(rows)"
   ]
  },
  {
   "cell_type": "code",
   "execution_count": null,
   "id": "e033dcb9",
   "metadata": {},
   "outputs": [],
   "source": [
    "df_vm_sizes = collect_all_vm_sizes(compute_client)\n",
    "\n",
    "# 4. Inspect\n",
    "print(df_vm_sizes.head())\n",
    "print(\"Total SKUs:\", len(df_vm_sizes))"
   ]
  }
 ],
 "metadata": {
  "kernelspec": {
   "display_name": "venv",
   "language": "python",
   "name": "python3"
  },
  "language_info": {
   "codemirror_mode": {
    "name": "ipython",
    "version": 3
   },
   "file_extension": ".py",
   "mimetype": "text/x-python",
   "name": "python",
   "nbconvert_exporter": "python",
   "pygments_lexer": "ipython3",
   "version": "3.12.3"
  }
 },
 "nbformat": 4,
 "nbformat_minor": 5
}
